#importing CSV File
import pandas as pd
import numpy as np
combine = pd.read_csv('Combine.csv')

##print(combine)
combine
##combine.dtypes
##combine["Pos"] =  pd.Categorical(combine["Pos"], ordered=False)
##To change datatype use the following code
#combine.describe()
combine.Player = [x.strip('!@#$%^&*()_+-=') for x in combine.Player]
combine

probowl = pd.read_csv('Probowl.csv')

##print(probowl)
probowl
##probowl["Pos"] =  pd.Categorical(probowl["Pos"], ordered=False)
##probowl.dtypes
##To change datatype use the following code
##probowl.describe()
##Removing symbols in name column
probowl.Player = [x.strip('!@#$%^&*()_+-=') for x in probowl.Player]
probowl
countn = probowl["Player"].value_counts()
countn

combine.set_index("Player")

countn = countn.to_frame().reset_index()
print(countn)

countn.rename(columns={'Player':'Probowls'}, inplace=True)
countn.rename(columns={'index':'Player'}, inplace=True)
countn.set_index("Player")

results = pd.merge(combine, 
                   countn,
                   left_on= 'Player',
                   right_on = 'Player',
                   how = 'left')
results

##To export cleaned file use 
results.to_csv('MasterPlayerDataSet.csv')
