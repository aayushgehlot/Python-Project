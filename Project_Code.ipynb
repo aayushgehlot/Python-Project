{
 "cells": [
  {
   "cell_type": "code",
   "execution_count": null,
   "metadata": {
    "scrolled": true
   },
   "outputs": [],
   "source": [
    "#importing CSV File\n",
    "import pandas as pd\n",
    "import numpy as np\n",
    "combine = pd.read_csv('Combine.csv')\n",
    "\n",
    "##print(combine)\n",
    "combine\n",
    "##combine.dtypes\n",
    "##combine[\"Pos\"] =  pd.Categorical(combine[\"Pos\"], ordered=False)\n",
    "##To change datatype use the following code\n",
    "#combine.describe()\n",
    "combine.Player = [x.strip('!@#$%^&*()_+-=') for x in combine.Player]\n",
    "combine"
   ]
  },
  {
   "cell_type": "code",
   "execution_count": null,
   "metadata": {
    "scrolled": true
   },
   "outputs": [],
   "source": [
    "probowl = pd.read_csv('Probowl.csv')\n",
    "\n",
    "##print(probowl)\n",
    "probowl\n",
    "##probowl[\"Pos\"] =  pd.Categorical(probowl[\"Pos\"], ordered=False)\n",
    "##probowl.dtypes\n",
    "##To change datatype use the following code\n",
    "##probowl.describe()\n",
    "\n",
    "##Removing symbols in name column\n",
    "probowl.Player = [x.strip('!@#$%^&*()_+-=') for x in probowl.Player]\n",
    "probowl\n",
    "countn = probowl[\"Player\"].value_counts()\n",
    "countn"
   ]
  },
  {
   "cell_type": "code",
   "execution_count": null,
   "metadata": {},
   "outputs": [],
   "source": [
    "combine.set_index(\"Player\")"
   ]
  },
  {
   "cell_type": "code",
   "execution_count": null,
   "metadata": {},
   "outputs": [],
   "source": [
    "countn = countn.to_frame().reset_index()\n",
    "print(countn)"
   ]
  },
  {
   "cell_type": "code",
   "execution_count": null,
   "metadata": {},
   "outputs": [],
   "source": [
    "countn.rename(columns={'Player':'Probowls'}, inplace=True)\n",
    "countn.rename(columns={'index':'Player'}, inplace=True)\n",
    "countn.set_index(\"Player\")"
   ]
  },
  {
   "cell_type": "code",
   "execution_count": null,
   "metadata": {},
   "outputs": [],
   "source": [
    "results = pd.merge(combine, \n",
    "                   countn,\n",
    "                   left_on= 'Player',\n",
    "                   right_on = 'Player',\n",
    "                   how = 'left')\n",
    "results"
   ]
  },
  {
   "cell_type": "code",
   "execution_count": null,
   "metadata": {},
   "outputs": [],
   "source": [
    "##To export cleaned file use \n",
    "results.to_csv('MasterPlayerDataSet.csv')"
   ]
  },
  {
   "cell_type": "code",
   "execution_count": null,
   "metadata": {},
   "outputs": [],
   "source": []
  },
  {
   "cell_type": "code",
   "execution_count": null,
   "metadata": {},
   "outputs": [],
   "source": []
  },
  {
   "cell_type": "code",
   "execution_count": null,
   "metadata": {
    "scrolled": true
   },
   "outputs": [],
   "source": []
  },
  {
   "cell_type": "code",
   "execution_count": null,
   "metadata": {},
   "outputs": [],
   "source": []
  }
 ],
 "metadata": {
  "kernelspec": {
   "display_name": "Python 3",
   "language": "python",
   "name": "python3"
  },
  "language_info": {
   "codemirror_mode": {
    "name": "ipython",
    "version": 3
   },
   "file_extension": ".py",
   "mimetype": "text/x-python",
   "name": "python",
   "nbconvert_exporter": "python",
   "pygments_lexer": "ipython3",
   "version": "3.6.5"
  }
 },
 "nbformat": 4,
 "nbformat_minor": 2
}
